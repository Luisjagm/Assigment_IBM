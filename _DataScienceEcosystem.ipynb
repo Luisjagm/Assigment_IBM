{
 "cells": [
  {
   "cell_type": "markdown",
   "id": "8a95df04-8ed3-4c69-b8de-674bae26a827",
   "metadata": {},
   "source": [
    "# Data Science Tools and Ecosystem"
   ]
  },
  {
   "cell_type": "markdown",
   "id": "cfb875b9-cade-46f5-b36a-e98316aa91b5",
   "metadata": {},
   "source": [
    "In this notebook, Data Science Tools and Ecosystem are summarized."
   ]
  },
  {
   "cell_type": "markdown",
   "id": "22ea482f-00e1-45e6-a750-254c484393d6",
   "metadata": {},
   "source": [
    "Some of the popular languages that Data Scientists use are:\n",
    "1. Python\n",
    "2. SQL\n",
    "3. R"
   ]
  },
  {
   "attachments": {},
   "cell_type": "markdown",
   "id": "6b7cb153-74e6-4f51-a7bf-6244910f64f8",
   "metadata": {},
   "source": [
    "Some of the commonly used libraries used by Data Scientists include:\n",
    "1. Pandas\n",
    "2. Numpy\n",
    "3. Scikit-learn\n",
    "4. matplotlib\n",
    "5. ggplot2"
   ]
  },
  {
   "cell_type": "markdown",
   "id": "32444fe8-4dba-4385-8d77-3e9009e6dd02",
   "metadata": {},
   "source": [
    "|Data Science Tools|\n",
    "|------------------|\n",
    "|Jupyter Notebooks|\n",
    "|Visual Studio Code|\n",
    "|Jupyter Labs|"
   ]
  },
  {
   "cell_type": "markdown",
   "id": "128851cb-cdb1-463b-ab1b-be9bd520d4e1",
   "metadata": {},
   "source": [
    "### Below are a few examples of evaluating arithmetic expressions in Python"
   ]
  },
  {
   "cell_type": "code",
   "execution_count": 7,
   "id": "b101e024-ffa0-4608-8fec-648c3cce445d",
   "metadata": {},
   "outputs": [
    {
     "data": {
      "text/plain": [
       "17"
      ]
     },
     "execution_count": 7,
     "metadata": {},
     "output_type": "execute_result"
    }
   ],
   "source": [
    "#This a simple arithmetic expression to mutiply then add integers\n",
    "(3*4)+5"
   ]
  },
  {
   "cell_type": "code",
   "execution_count": 9,
   "id": "233d4684-2332-4e39-a474-f8ada3b199a2",
   "metadata": {},
   "outputs": [
    {
     "data": {
      "text/plain": [
       "3.3333333333333335"
      ]
     },
     "execution_count": 9,
     "metadata": {},
     "output_type": "execute_result"
    }
   ],
   "source": [
    "# This will convert 200 minutes to hours by diving by 60\n",
    "minutes= 200\n",
    "hours= minutes/60\n",
    "hours"
   ]
  },
  {
   "cell_type": "markdown",
   "id": "abb9bb66-7733-4d93-a571-2886f55cd35f",
   "metadata": {},
   "source": [
    "**Objectives:**\n",
    "- List popular languages for Data Science\n",
    "- List popular libraries for Data Science\n",
    "- List popular tools for Data Science\n",
    "- Try basic python code\n",
    "- Basic use of python variables in jupyter Notebooks"
   ]
  },
  {
   "cell_type": "markdown",
   "id": "b28d29a8-d195-4205-bc6e-e1c8d3c1d9d0",
   "metadata": {},
   "source": [
    "## Author\n",
    "Luis Javier Gutiérrez Márquez"
   ]
  }
 ],
 "metadata": {
  "kernelspec": {
   "display_name": "Python 3 (ipykernel)",
   "language": "python",
   "name": "python3"
  },
  "language_info": {
   "codemirror_mode": {
    "name": "ipython",
    "version": 3
   },
   "file_extension": ".py",
   "mimetype": "text/x-python",
   "name": "python",
   "nbconvert_exporter": "python",
   "pygments_lexer": "ipython3",
   "version": "3.12.4"
  }
 },
 "nbformat": 4,
 "nbformat_minor": 5
}
